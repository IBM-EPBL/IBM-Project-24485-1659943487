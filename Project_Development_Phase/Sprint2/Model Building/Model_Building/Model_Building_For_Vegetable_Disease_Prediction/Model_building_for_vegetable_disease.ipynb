{
  "nbformat": 4,
  "nbformat_minor": 0,
  "metadata": {
    "colab": {
      "provenance": []
    },
    "kernelspec": {
      "name": "python3",
      "display_name": "Python 3"
    },
    "language_info": {
      "name": "python"
    }
  },
  "cells": [
    {
      "cell_type": "markdown",
      "source": [
        "****Team ID: PNT2022TMID20281****\n",
        "\n",
        "**Model_building_for_vegetable_disease**\n",
        "\n",
        "\n"
      ],
      "metadata": {
        "id": "6XG9DGdf-JsJ"
      }
    },
    {
      "cell_type": "code",
      "execution_count": 1,
      "metadata": {
        "id": "5QWrwTPR98eb"
      },
      "outputs": [],
      "source": [
        "from keras.preprocessing.image import ImageDataGenerator\n",
        "train_datagen=ImageDataGenerator(rescale=1./255,shear_range=0.2,zoom_range=0.2,horizontal_flip=True)\n",
        "test_datagen=ImageDataGenerator(rescale=1)"
      ]
    },
    {
      "cell_type": "code",
      "source": [
        "x_train=train_datagen.flow_from_directory(r'/content/drive/MyDrive/Dataset/Dataset Plant Disease/Veg-dataset/Veg-dataset/train_set',target_size=(128,128),batch_size=2,class_mode='categorical')\n",
        "x_test=test_datagen.flow_from_directory(r'/content/drive/MyDrive/Dataset/Dataset Plant Disease/Veg-dataset/Veg-dataset/test_set',target_size=(128,128),batch_size=2,class_mode='categorical')"
      ],
      "metadata": {
        "colab": {
          "base_uri": "https://localhost:8080/"
        },
        "id": "9iyHyoPk-XRj",
        "outputId": "4b33ae79-e19c-4085-b05c-b128053baf66"
      },
      "execution_count": 2,
      "outputs": [
        {
          "output_type": "stream",
          "name": "stdout",
          "text": [
            "Found 11436 images belonging to 9 classes.\n",
            "Found 3426 images belonging to 9 classes.\n"
          ]
        }
      ]
    },
    {
      "cell_type": "code",
      "source": [
        "from keras.models import Sequential\n",
        "from keras.layers import Dense\n",
        "from keras.layers import Convolution2D\n",
        "from keras.layers import MaxPooling2D\n",
        "from keras.layers import Flatten"
      ],
      "metadata": {
        "id": "kASrqW0g_Os9"
      },
      "execution_count": 3,
      "outputs": []
    },
    {
      "cell_type": "code",
      "source": [
        "model=Sequential()"
      ],
      "metadata": {
        "id": "0pISz0B4_R8M"
      },
      "execution_count": 4,
      "outputs": []
    },
    {
      "cell_type": "code",
      "source": [
        "model.add(Convolution2D(32,(3,3),input_shape=(128,128,3),activation='relu'))"
      ],
      "metadata": {
        "id": "cUfHqa9D_TAr"
      },
      "execution_count": 5,
      "outputs": []
    },
    {
      "cell_type": "code",
      "source": [
        "model.add(MaxPooling2D(pool_size=(2,2)))"
      ],
      "metadata": {
        "id": "BHVcWtDp_Vg_"
      },
      "execution_count": 6,
      "outputs": []
    },
    {
      "cell_type": "code",
      "source": [
        "model.add(Flatten())"
      ],
      "metadata": {
        "id": "zZ44q1rs_XE0"
      },
      "execution_count": 7,
      "outputs": []
    },
    {
      "cell_type": "code",
      "source": [
        "model.add(Dense(units=300,kernel_initializer='uniform',activation='relu'))"
      ],
      "metadata": {
        "id": "TrXDTBqr_Yrb"
      },
      "execution_count": 8,
      "outputs": []
    },
    {
      "cell_type": "code",
      "source": [
        "model.add(Dense(units=150,kernel_initializer='random_uniform',activation='relu'))"
      ],
      "metadata": {
        "id": "6Jatd4bo_aOt"
      },
      "execution_count": 9,
      "outputs": []
    },
    {
      "cell_type": "code",
      "source": [
        "model.add(Dense(units=75,kernel_initializer='uniform',activation='relu'))"
      ],
      "metadata": {
        "id": "7kXD4GRz_cKG"
      },
      "execution_count": 10,
      "outputs": []
    },
    {
      "cell_type": "code",
      "source": [
        "model.add(Dense(units=9,kernel_initializer='uniform',activation='softmax'))"
      ],
      "metadata": {
        "id": "RTLNQg9B_d9h"
      },
      "execution_count": 11,
      "outputs": []
    },
    {
      "cell_type": "code",
      "source": [
        "model.compile(loss='categorical_crossentropy',optimizer=\"adam\",metrics=[\"accuracy\"])"
      ],
      "metadata": {
        "id": "OayIw-6c_nAK"
      },
      "execution_count": 12,
      "outputs": []
    },
    {
      "cell_type": "code",
      "source": [
        "model.fit(x_train,steps_per_epoch=89,epochs=20,validation_data=x_test,validation_steps=27)"
      ],
      "metadata": {
        "colab": {
          "base_uri": "https://localhost:8080/"
        },
        "id": "Yf0CAx9H_ozB",
        "outputId": "bea82158-afd3-48d0-9afe-1182ab71aa44"
      },
      "execution_count": 13,
      "outputs": [
        {
          "output_type": "stream",
          "name": "stdout",
          "text": [
            "Epoch 1/20\n",
            "89/89 [==============================] - 69s 746ms/step - loss: 2.1525 - accuracy: 0.1966 - val_loss: 59.2306 - val_accuracy: 0.0926\n",
            "Epoch 2/20\n",
            "89/89 [==============================] - 66s 737ms/step - loss: 2.1243 - accuracy: 0.1404 - val_loss: 42.9524 - val_accuracy: 0.0926\n",
            "Epoch 3/20\n",
            "89/89 [==============================] - 62s 696ms/step - loss: 2.0903 - accuracy: 0.1629 - val_loss: 94.9729 - val_accuracy: 0.1111\n",
            "Epoch 4/20\n",
            "89/89 [==============================] - 68s 760ms/step - loss: 2.1040 - accuracy: 0.1348 - val_loss: 217.2138 - val_accuracy: 0.1667\n",
            "Epoch 5/20\n",
            "89/89 [==============================] - 69s 775ms/step - loss: 2.0683 - accuracy: 0.2416 - val_loss: 58.8204 - val_accuracy: 0.2407\n",
            "Epoch 6/20\n",
            "89/89 [==============================] - 64s 712ms/step - loss: 2.1157 - accuracy: 0.2022 - val_loss: 145.1905 - val_accuracy: 0.1481\n",
            "Epoch 7/20\n",
            "89/89 [==============================] - 66s 739ms/step - loss: 2.0839 - accuracy: 0.2247 - val_loss: 119.8412 - val_accuracy: 0.0556\n",
            "Epoch 8/20\n",
            "89/89 [==============================] - 63s 703ms/step - loss: 2.0969 - accuracy: 0.1910 - val_loss: 38.3902 - val_accuracy: 0.3148\n",
            "Epoch 9/20\n",
            "89/89 [==============================] - 60s 675ms/step - loss: 1.9276 - accuracy: 0.2697 - val_loss: 107.8847 - val_accuracy: 0.2407\n",
            "Epoch 10/20\n",
            "89/89 [==============================] - 73s 815ms/step - loss: 1.8624 - accuracy: 0.3258 - val_loss: 88.6716 - val_accuracy: 0.1296\n",
            "Epoch 11/20\n",
            "89/89 [==============================] - 63s 709ms/step - loss: 1.8509 - accuracy: 0.2640 - val_loss: 171.3664 - val_accuracy: 0.2593\n",
            "Epoch 12/20\n",
            "89/89 [==============================] - 67s 751ms/step - loss: 1.9120 - accuracy: 0.2697 - val_loss: 163.4613 - val_accuracy: 0.0926\n",
            "Epoch 13/20\n",
            "89/89 [==============================] - 65s 723ms/step - loss: 1.8354 - accuracy: 0.3427 - val_loss: 91.7517 - val_accuracy: 0.2593\n",
            "Epoch 14/20\n",
            "89/89 [==============================] - 62s 695ms/step - loss: 1.8283 - accuracy: 0.3371 - val_loss: 150.5110 - val_accuracy: 0.2037\n",
            "Epoch 15/20\n",
            "89/89 [==============================] - 59s 661ms/step - loss: 1.7173 - accuracy: 0.3315 - val_loss: 118.4522 - val_accuracy: 0.3889\n",
            "Epoch 16/20\n",
            "89/89 [==============================] - 60s 679ms/step - loss: 1.6697 - accuracy: 0.3708 - val_loss: 243.9134 - val_accuracy: 0.2963\n",
            "Epoch 17/20\n",
            "89/89 [==============================] - 63s 701ms/step - loss: 1.7912 - accuracy: 0.3371 - val_loss: 105.0245 - val_accuracy: 0.2037\n",
            "Epoch 18/20\n",
            "89/89 [==============================] - 59s 670ms/step - loss: 1.6810 - accuracy: 0.3820 - val_loss: 97.5692 - val_accuracy: 0.3889\n",
            "Epoch 19/20\n",
            "89/89 [==============================] - 59s 664ms/step - loss: 1.5952 - accuracy: 0.4045 - val_loss: 233.9032 - val_accuracy: 0.2037\n",
            "Epoch 20/20\n",
            "89/89 [==============================] - 56s 630ms/step - loss: 1.6855 - accuracy: 0.3933 - val_loss: 248.0517 - val_accuracy: 0.3148\n"
          ]
        },
        {
          "output_type": "execute_result",
          "data": {
            "text/plain": [
              "<keras.callbacks.History at 0x7fab574e6b50>"
            ]
          },
          "metadata": {},
          "execution_count": 13
        }
      ]
    },
    {
      "cell_type": "markdown",
      "source": [
        "****Save the Model****"
      ],
      "metadata": {
        "id": "_CznILY5_wDO"
      }
    },
    {
      "cell_type": "code",
      "source": [
        "model.save('vegetable.h5')"
      ],
      "metadata": {
        "id": "0GgZ_k2c_rZ3"
      },
      "execution_count": 14,
      "outputs": []
    },
    {
      "cell_type": "code",
      "source": [
        "model.summary()"
      ],
      "metadata": {
        "colab": {
          "base_uri": "https://localhost:8080/"
        },
        "id": "PnViuVYd_tpB",
        "outputId": "fb7e90d0-35f4-4441-9c37-12569a7d90ab"
      },
      "execution_count": 15,
      "outputs": [
        {
          "output_type": "stream",
          "name": "stdout",
          "text": [
            "Model: \"sequential\"\n",
            "_________________________________________________________________\n",
            " Layer (type)                Output Shape              Param #   \n",
            "=================================================================\n",
            " conv2d (Conv2D)             (None, 126, 126, 32)      896       \n",
            "                                                                 \n",
            " max_pooling2d (MaxPooling2D  (None, 63, 63, 32)       0         \n",
            " )                                                               \n",
            "                                                                 \n",
            " flatten (Flatten)           (None, 127008)            0         \n",
            "                                                                 \n",
            " dense (Dense)               (None, 300)               38102700  \n",
            "                                                                 \n",
            " dense_1 (Dense)             (None, 150)               45150     \n",
            "                                                                 \n",
            " dense_2 (Dense)             (None, 75)                11325     \n",
            "                                                                 \n",
            " dense_3 (Dense)             (None, 9)                 684       \n",
            "                                                                 \n",
            "=================================================================\n",
            "Total params: 38,160,755\n",
            "Trainable params: 38,160,755\n",
            "Non-trainable params: 0\n",
            "_________________________________________________________________\n"
          ]
        }
      ]
    }
  ]
}