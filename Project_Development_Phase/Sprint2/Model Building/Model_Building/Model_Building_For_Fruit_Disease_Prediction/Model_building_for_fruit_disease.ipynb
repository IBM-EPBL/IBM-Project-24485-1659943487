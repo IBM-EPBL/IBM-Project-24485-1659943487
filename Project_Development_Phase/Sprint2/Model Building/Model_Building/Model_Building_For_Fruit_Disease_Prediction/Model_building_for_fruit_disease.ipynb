{
  "nbformat": 4,
  "nbformat_minor": 0,
  "metadata": {
    "colab": {
      "provenance": []
    },
    "kernelspec": {
      "name": "python3",
      "display_name": "Python 3"
    },
    "language_info": {
      "name": "python"
    }
  },
  "cells": [
    {
      "cell_type": "markdown",
      "source": [
        "****Team ID: PNT2022TMID20281****\n",
        "\n",
        "**Model_building_for_fruit_disease**"
      ],
      "metadata": {
        "id": "8FjbJlig8Aln"
      }
    },
    {
      "cell_type": "code",
      "execution_count": 1,
      "metadata": {
        "id": "myhlU_KF7cgI"
      },
      "outputs": [],
      "source": [
        "from keras.preprocessing.image import ImageDataGenerator\n",
        "train_datagen=ImageDataGenerator(rescale=1./255,shear_range=0.2,zoom_range=0.2,horizontal_flip=True)\n",
        "test_datagen=ImageDataGenerator(rescale=1)"
      ]
    },
    {
      "cell_type": "code",
      "source": [
        "x_train=train_datagen.flow_from_directory(r'/content/drive/MyDrive/Dataset/Dataset Plant Disease/fruit-dataset/fruit-dataset/test',target_size=(128,128),batch_size=2,class_mode='categorical')\n",
        "x_test=test_datagen.flow_from_directory(r'/content/drive/MyDrive/Dataset/Dataset Plant Disease/fruit-dataset/fruit-dataset/train',target_size=(128,128),batch_size=2,class_mode='categorical')"
      ],
      "metadata": {
        "colab": {
          "base_uri": "https://localhost:8080/"
        },
        "id": "UGSQMpDw8NHk",
        "outputId": "a91e44fb-4bbc-4885-87bb-13d94514e2a7"
      },
      "execution_count": 2,
      "outputs": [
        {
          "output_type": "stream",
          "name": "stdout",
          "text": [
            "Found 1686 images belonging to 6 classes.\n",
            "Found 5394 images belonging to 6 classes.\n"
          ]
        }
      ]
    },
    {
      "cell_type": "code",
      "source": [
        "from keras.models import Sequential\n",
        "from keras.layers import Dense\n",
        "from keras.layers import Convolution2D\n",
        "from keras.layers import MaxPooling2D\n",
        "from keras.layers import Flatten"
      ],
      "metadata": {
        "id": "RXaN62K88ooQ"
      },
      "execution_count": 3,
      "outputs": []
    },
    {
      "cell_type": "code",
      "source": [
        "model=Sequential()"
      ],
      "metadata": {
        "id": "lnNUKs_s8sjN"
      },
      "execution_count": 4,
      "outputs": []
    },
    {
      "cell_type": "code",
      "source": [
        "model.add(Convolution2D(32,(3,3),input_shape=(128,128,3),activation='relu'))"
      ],
      "metadata": {
        "id": "2kgqHHVT8tfK"
      },
      "execution_count": 5,
      "outputs": []
    },
    {
      "cell_type": "code",
      "source": [
        "model.add(MaxPooling2D(pool_size=(2,2)))"
      ],
      "metadata": {
        "id": "VZF7xMdL8vtG"
      },
      "execution_count": 6,
      "outputs": []
    },
    {
      "cell_type": "code",
      "source": [
        "model.add(Flatten())"
      ],
      "metadata": {
        "id": "in2oFlM58zD2"
      },
      "execution_count": 7,
      "outputs": []
    },
    {
      "cell_type": "code",
      "source": [
        "model.add(Dense(units=40,kernel_initializer='uniform',activation='relu'))"
      ],
      "metadata": {
        "id": "y1IwdTCQ81Pt"
      },
      "execution_count": 9,
      "outputs": []
    },
    {
      "cell_type": "code",
      "source": [
        "model.add(Dense(units=20,kernel_initializer='random_uniform',activation='relu'))"
      ],
      "metadata": {
        "id": "8kOm09Uh87hP"
      },
      "execution_count": 10,
      "outputs": []
    },
    {
      "cell_type": "code",
      "source": [
        "model.add(Dense(units=6,kernel_initializer='random_uniform',activation='softmax'))"
      ],
      "metadata": {
        "id": "3ro9lgV089Uk"
      },
      "execution_count": 11,
      "outputs": []
    },
    {
      "cell_type": "code",
      "source": [
        "model.compile(loss='categorical_crossentropy',optimizer=\"adam\",metrics=[\"accuracy\"])"
      ],
      "metadata": {
        "id": "ptBCd5I38_E9"
      },
      "execution_count": 12,
      "outputs": []
    },
    {
      "cell_type": "code",
      "source": [
        "model.fit(x_train,steps_per_epoch=89,epochs=20,validation_data=x_test,validation_steps=27)"
      ],
      "metadata": {
        "colab": {
          "base_uri": "https://localhost:8080/"
        },
        "id": "KddhUYyL9A9e",
        "outputId": "f0cc0050-3dae-46ad-b976-333a69320226"
      },
      "execution_count": 13,
      "outputs": [
        {
          "output_type": "stream",
          "name": "stdout",
          "text": [
            "Epoch 1/20\n",
            "89/89 [==============================] - 67s 749ms/step - loss: 1.6491 - accuracy: 0.3090 - val_loss: 110.8128 - val_accuracy: 0.2963\n",
            "Epoch 2/20\n",
            "89/89 [==============================] - 53s 598ms/step - loss: 1.6463 - accuracy: 0.2865 - val_loss: 85.8425 - val_accuracy: 0.2407\n",
            "Epoch 3/20\n",
            "89/89 [==============================] - 50s 559ms/step - loss: 1.5472 - accuracy: 0.4270 - val_loss: 116.2294 - val_accuracy: 0.3148\n",
            "Epoch 4/20\n",
            "89/89 [==============================] - 51s 569ms/step - loss: 1.2032 - accuracy: 0.5899 - val_loss: 120.8327 - val_accuracy: 0.6667\n",
            "Epoch 5/20\n",
            "89/89 [==============================] - 40s 447ms/step - loss: 0.9750 - accuracy: 0.6404 - val_loss: 106.7304 - val_accuracy: 0.6296\n",
            "Epoch 6/20\n",
            "89/89 [==============================] - 41s 460ms/step - loss: 0.8777 - accuracy: 0.7135 - val_loss: 283.9178 - val_accuracy: 0.5185\n",
            "Epoch 7/20\n",
            "89/89 [==============================] - 39s 425ms/step - loss: 0.7487 - accuracy: 0.7079 - val_loss: 104.1821 - val_accuracy: 0.7222\n",
            "Epoch 8/20\n",
            "89/89 [==============================] - 37s 422ms/step - loss: 0.7484 - accuracy: 0.7472 - val_loss: 120.2991 - val_accuracy: 0.6481\n",
            "Epoch 9/20\n",
            "89/89 [==============================] - 33s 373ms/step - loss: 0.7903 - accuracy: 0.6910 - val_loss: 102.5829 - val_accuracy: 0.7222\n",
            "Epoch 10/20\n",
            "89/89 [==============================] - 31s 346ms/step - loss: 0.7566 - accuracy: 0.7247 - val_loss: 127.1757 - val_accuracy: 0.6481\n",
            "Epoch 11/20\n",
            "89/89 [==============================] - 30s 336ms/step - loss: 0.6585 - accuracy: 0.7360 - val_loss: 65.1774 - val_accuracy: 0.7778\n",
            "Epoch 12/20\n",
            "89/89 [==============================] - 28s 319ms/step - loss: 0.6447 - accuracy: 0.7247 - val_loss: 36.6783 - val_accuracy: 0.8704\n",
            "Epoch 13/20\n",
            "89/89 [==============================] - 28s 312ms/step - loss: 0.6423 - accuracy: 0.7303 - val_loss: 116.6980 - val_accuracy: 0.7407\n",
            "Epoch 14/20\n",
            "89/89 [==============================] - 27s 311ms/step - loss: 0.6146 - accuracy: 0.7697 - val_loss: 187.0540 - val_accuracy: 0.6852\n",
            "Epoch 15/20\n",
            "89/89 [==============================] - 27s 302ms/step - loss: 0.7025 - accuracy: 0.7247 - val_loss: 65.5818 - val_accuracy: 0.7407\n",
            "Epoch 16/20\n",
            "89/89 [==============================] - 26s 295ms/step - loss: 0.6418 - accuracy: 0.7472 - val_loss: 156.8009 - val_accuracy: 0.5926\n",
            "Epoch 17/20\n",
            "89/89 [==============================] - 24s 268ms/step - loss: 0.6468 - accuracy: 0.7584 - val_loss: 82.1259 - val_accuracy: 0.6481\n",
            "Epoch 18/20\n",
            "89/89 [==============================] - 21s 234ms/step - loss: 0.6092 - accuracy: 0.7697 - val_loss: 157.3402 - val_accuracy: 0.6667\n",
            "Epoch 19/20\n",
            "89/89 [==============================] - 21s 243ms/step - loss: 0.5072 - accuracy: 0.8146 - val_loss: 170.0036 - val_accuracy: 0.7778\n",
            "Epoch 20/20\n",
            "89/89 [==============================] - 24s 269ms/step - loss: 0.5750 - accuracy: 0.7753 - val_loss: 135.7463 - val_accuracy: 0.6296\n"
          ]
        },
        {
          "output_type": "execute_result",
          "data": {
            "text/plain": [
              "<keras.callbacks.History at 0x7f45d7402e90>"
            ]
          },
          "metadata": {},
          "execution_count": 13
        }
      ]
    },
    {
      "cell_type": "markdown",
      "source": [
        "****Save the Model****"
      ],
      "metadata": {
        "id": "LXLL7_H49KS_"
      }
    },
    {
      "cell_type": "code",
      "source": [
        "model.save('fruit.h5')"
      ],
      "metadata": {
        "id": "7cONSDU99EyK"
      },
      "execution_count": 14,
      "outputs": []
    },
    {
      "cell_type": "code",
      "source": [
        "model.summary()"
      ],
      "metadata": {
        "colab": {
          "base_uri": "https://localhost:8080/"
        },
        "id": "W0wdSMfe9HJr",
        "outputId": "64377274-f53e-4f2f-f1ef-53162bde2904"
      },
      "execution_count": 15,
      "outputs": [
        {
          "output_type": "stream",
          "name": "stdout",
          "text": [
            "Model: \"sequential\"\n",
            "_________________________________________________________________\n",
            " Layer (type)                Output Shape              Param #   \n",
            "=================================================================\n",
            " conv2d (Conv2D)             (None, 126, 126, 32)      896       \n",
            "                                                                 \n",
            " max_pooling2d (MaxPooling2D  (None, 63, 63, 32)       0         \n",
            " )                                                               \n",
            "                                                                 \n",
            " flatten (Flatten)           (None, 127008)            0         \n",
            "                                                                 \n",
            " dense (Dense)               (None, 40)                5080360   \n",
            "                                                                 \n",
            " dense_1 (Dense)             (None, 40)                1640      \n",
            "                                                                 \n",
            " dense_2 (Dense)             (None, 20)                820       \n",
            "                                                                 \n",
            " dense_3 (Dense)             (None, 6)                 126       \n",
            "                                                                 \n",
            "=================================================================\n",
            "Total params: 5,083,842\n",
            "Trainable params: 5,083,842\n",
            "Non-trainable params: 0\n",
            "_________________________________________________________________\n"
          ]
        }
      ]
    }
  ]
}